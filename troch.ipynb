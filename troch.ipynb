{
  "nbformat": 4,
  "nbformat_minor": 0,
  "metadata": {
    "colab": {
      "provenance": [],
      "gpuType": "T4"
    },
    "kernelspec": {
      "name": "python3",
      "display_name": "Python 3"
    },
    "language_info": {
      "name": "python"
    },
    "accelerator": "GPU"
  },
  "cells": [
    {
      "cell_type": "code",
      "execution_count": 2,
      "metadata": {
        "colab": {
          "base_uri": "https://localhost:8080/"
        },
        "id": "rL_b5Q1Ng0Xa",
        "outputId": "20086a20-5995-43b5-f441-e26a846d840f"
      },
      "outputs": [
        {
          "output_type": "stream",
          "name": "stdout",
          "text": [
            "2.6.0+cu124\n"
          ]
        }
      ],
      "source": [
        "import torch\n",
        "print(torch.__version__)"
      ]
    },
    {
      "cell_type": "code",
      "source": [
        "# prompt: gpu is available or not\n",
        "\n",
        "import torch\n",
        "if torch.cuda.is_available():\n",
        "    print(\"GPU is available\")\n",
        "    print(torch.cuda.get_device_name(0))\n",
        "    print(torch.cuda.device_count())\n",
        "else:\n",
        "    print(\"GPU is not available\")\n"
      ],
      "metadata": {
        "colab": {
          "base_uri": "https://localhost:8080/"
        },
        "id": "2kKOLl04hCQi",
        "outputId": "a259d84f-ece5-4bfa-9576-66e41e43c17d"
      },
      "execution_count": 2,
      "outputs": [
        {
          "output_type": "stream",
          "name": "stdout",
          "text": [
            "GPU is available\n",
            "Tesla T4\n",
            "1\n"
          ]
        }
      ]
    },
    {
      "cell_type": "markdown",
      "source": [
        "Using Empty"
      ],
      "metadata": {
        "id": "XulrczF6li0n"
      }
    },
    {
      "cell_type": "code",
      "source": [
        "\n",
        "x = torch.empty(5, 3) # creates an empty tensor with 5 rows and 3 columns It allocates memory for the tensor but does not initialize the values — the values inside x are whatever random garbage values were already in that memory location.\n",
        "x\n"
      ],
      "metadata": {
        "colab": {
          "base_uri": "https://localhost:8080/"
        },
        "id": "9LwZ3rz0jtUA",
        "outputId": "96bea4e5-060a-49b0-c203-4f97ccd10bb3"
      },
      "execution_count": 2,
      "outputs": [
        {
          "output_type": "execute_result",
          "data": {
            "text/plain": [
              "tensor([[4.9262e+34, 4.4875e-41, 4.9262e+34],\n",
              "        [4.4875e-41, 0.0000e+00, 1.4013e-45],\n",
              "        [0.0000e+00, 0.0000e+00, 1.1631e-43],\n",
              "        [0.0000e+00, 0.0000e+00, 0.0000e+00],\n",
              "        [0.0000e+00, 0.0000e+00, 0.0000e+00]])"
            ]
          },
          "metadata": {},
          "execution_count": 2
        }
      ]
    },
    {
      "cell_type": "markdown",
      "source": [],
      "metadata": {
        "id": "CkLAehcAlgCj"
      }
    },
    {
      "cell_type": "code",
      "source": [
        "# prompt: check type\n",
        "\n",
        "print(type(x))\n"
      ],
      "metadata": {
        "colab": {
          "base_uri": "https://localhost:8080/"
        },
        "id": "G8qEMVG0k7D1",
        "outputId": "57a990ef-08d9-46fd-a458-28e89b81c81f"
      },
      "execution_count": 3,
      "outputs": [
        {
          "output_type": "stream",
          "name": "stdout",
          "text": [
            "<class 'torch.Tensor'>\n"
          ]
        }
      ]
    },
    {
      "cell_type": "code",
      "source": [
        "\n",
        "\n",
        "# Using zeors\n",
        "\n",
        "x = torch.zeros(5, 3) # creates a tensor with 5 rows and 3 columns filled with zeros\n",
        "x\n"
      ],
      "metadata": {
        "colab": {
          "base_uri": "https://localhost:8080/"
        },
        "id": "2b_lJX0xlrUw",
        "outputId": "2fe662db-ad7b-4f8a-ac83-1f7b5c50067d"
      },
      "execution_count": 6,
      "outputs": [
        {
          "output_type": "execute_result",
          "data": {
            "text/plain": [
              "tensor([[0., 0., 0.],\n",
              "        [0., 0., 0.],\n",
              "        [0., 0., 0.],\n",
              "        [0., 0., 0.],\n",
              "        [0., 0., 0.]])"
            ]
          },
          "metadata": {},
          "execution_count": 6
        }
      ]
    },
    {
      "cell_type": "code",
      "source": [
        "# prompt: using one\n",
        "\n",
        "# Using ones\n",
        "x = torch.ones(5, 3, dtype=torch.float16) # creates a tensor with 5 rows and 3 columns filled with ones\n",
        "x\n"
      ],
      "metadata": {
        "colab": {
          "base_uri": "https://localhost:8080/"
        },
        "id": "xmMIbUtrl1Mh",
        "outputId": "6e23277c-3fc3-4d8f-b58a-f34051aed9ca"
      },
      "execution_count": 5,
      "outputs": [
        {
          "output_type": "execute_result",
          "data": {
            "text/plain": [
              "tensor([[1., 1., 1.],\n",
              "        [1., 1., 1.],\n",
              "        [1., 1., 1.],\n",
              "        [1., 1., 1.],\n",
              "        [1., 1., 1.]], dtype=torch.float16)"
            ]
          },
          "metadata": {},
          "execution_count": 5
        }
      ]
    },
    {
      "cell_type": "code",
      "source": [
        "# prompt: using random\n",
        "\n",
        "import torch\n",
        "import random\n",
        "\n",
        "# Example using random\n",
        "random_tensor = torch.rand(2, 2)  # Creates a 2x2 tensor with random numbers between 0 and 1\n",
        "print(\"\\nRandom Tensor:\")\n",
        "print(random_tensor)\n",
        "\n",
        "# Example with a specific random seed (for reproducibility) This will generate a random tensor, but it will always be the same every time you run it with seed 42.\n",
        "torch.manual_seed(42)  # Set the seed\n",
        "random_tensor_seeded = torch.rand(2,2)\n",
        "print(\"\\nRandom Tensor with seed 42:\")\n",
        "print(random_tensor_seeded)\n",
        "\n",
        "# Another random tensor with the same seed will be the same\n",
        "torch.manual_seed(42)\n",
        "another_random_tensor_seeded = torch.rand(2,2)\n",
        "print(\"\\nAnother Random Tensor with seed 42:\")\n",
        "another_random_tensor_seeded\n"
      ],
      "metadata": {
        "colab": {
          "base_uri": "https://localhost:8080/"
        },
        "id": "hBYbSeV4l5Ji",
        "outputId": "e78c0088-79f0-4ebf-8f2d-a8e438a94b47"
      },
      "execution_count": 10,
      "outputs": [
        {
          "output_type": "stream",
          "name": "stdout",
          "text": [
            "\n",
            "Random Tensor:\n",
            "tensor([[0.0072, 0.0390],\n",
            "        [0.9929, 0.9131]])\n",
            "\n",
            "Random Tensor with seed 42:\n",
            "tensor([[0.8823, 0.9150],\n",
            "        [0.3829, 0.9593]])\n",
            "\n",
            "Another Random Tensor with seed 42:\n"
          ]
        },
        {
          "output_type": "execute_result",
          "data": {
            "text/plain": [
              "tensor([[0.8823, 0.9150],\n",
              "        [0.3829, 0.9593]])"
            ]
          },
          "metadata": {},
          "execution_count": 10
        }
      ]
    },
    {
      "cell_type": "code",
      "source": [
        "#creating own tensor\n",
        "torch.tensor([[1,2,3],[6,7,8]])"
      ],
      "metadata": {
        "colab": {
          "base_uri": "https://localhost:8080/"
        },
        "id": "Zw0Jc0Y3mRoX",
        "outputId": "0d547f44-d6df-475d-9a8e-f0f0f40f0b43"
      },
      "execution_count": 14,
      "outputs": [
        {
          "output_type": "execute_result",
          "data": {
            "text/plain": [
              "tensor([[1, 2, 3],\n",
              "        [6, 7, 8]])"
            ]
          },
          "metadata": {},
          "execution_count": 14
        }
      ]
    },
    {
      "cell_type": "code",
      "source": [
        "print(\"using arrange ->\", torch.arange(0,10,2))"
      ],
      "metadata": {
        "colab": {
          "base_uri": "https://localhost:8080/"
        },
        "id": "Ai7FIW8_oKCv",
        "outputId": "847d1b7f-79b0-481d-8f62-8018ef32dc9a"
      },
      "execution_count": 16,
      "outputs": [
        {
          "output_type": "stream",
          "name": "stdout",
          "text": [
            "using arrange -> tensor([0, 2, 4, 6, 8])\n"
          ]
        }
      ]
    },
    {
      "cell_type": "code",
      "source": [
        "#starting from 0 to 10 , 5 numbers with each having same gaps\n",
        "print(\"using linspace ->\", torch.linspace(0,10,5))"
      ],
      "metadata": {
        "colab": {
          "base_uri": "https://localhost:8080/"
        },
        "id": "LnPSEZsAps8s",
        "outputId": "e8d59e58-90e5-4117-8706-d14859cc8bc7"
      },
      "execution_count": 17,
      "outputs": [
        {
          "output_type": "stream",
          "name": "stdout",
          "text": [
            "using linspace -> tensor([ 0.0000,  2.5000,  5.0000,  7.5000, 10.0000])\n"
          ]
        }
      ]
    },
    {
      "cell_type": "code",
      "source": [
        "#identity matrix\n",
        "print(torch.eye(5))"
      ],
      "metadata": {
        "colab": {
          "base_uri": "https://localhost:8080/"
        },
        "id": "H2PeOPSPp08o",
        "outputId": "87c19c36-9049-4da0-9981-40865c91e34b"
      },
      "execution_count": 20,
      "outputs": [
        {
          "output_type": "stream",
          "name": "stdout",
          "text": [
            "tensor([[1., 0., 0., 0., 0.],\n",
            "        [0., 1., 0., 0., 0.],\n",
            "        [0., 0., 1., 0., 0.],\n",
            "        [0., 0., 0., 1., 0.],\n",
            "        [0., 0., 0., 0., 1.]])\n"
          ]
        }
      ]
    },
    {
      "cell_type": "code",
      "source": [
        "print(torch.full((2,3), 5))"
      ],
      "metadata": {
        "colab": {
          "base_uri": "https://localhost:8080/"
        },
        "id": "HM8TVZ3BqP65",
        "outputId": "9ebba049-daf0-422b-f9d3-4b99525ba45f"
      },
      "execution_count": 21,
      "outputs": [
        {
          "output_type": "stream",
          "name": "stdout",
          "text": [
            "tensor([[5, 5, 5],\n",
            "        [5, 5, 5]])\n"
          ]
        }
      ]
    },
    {
      "cell_type": "markdown",
      "source": [
        "Tensor Shape"
      ],
      "metadata": {
        "id": "SaIYwk6gq4iS"
      }
    },
    {
      "cell_type": "code",
      "source": [
        "a=torch.tensor([[1,2,3],[6,7,8]])\n",
        "a.shape\n"
      ],
      "metadata": {
        "colab": {
          "base_uri": "https://localhost:8080/"
        },
        "id": "fEj4LKApqm_i",
        "outputId": "8b20f428-a617-465a-8e0c-d4ee464e69e3"
      },
      "execution_count": 31,
      "outputs": [
        {
          "output_type": "execute_result",
          "data": {
            "text/plain": [
              "torch.int64"
            ]
          },
          "metadata": {},
          "execution_count": 31
        }
      ]
    },
    {
      "cell_type": "code",
      "source": [
        "torch.empty_like(a)"
      ],
      "metadata": {
        "colab": {
          "base_uri": "https://localhost:8080/"
        },
        "id": "TMUich9Irc-V",
        "outputId": "16e5f9cc-bbeb-41ae-bb18-8733a04f2e2b"
      },
      "execution_count": 25,
      "outputs": [
        {
          "output_type": "execute_result",
          "data": {
            "text/plain": [
              "tensor([[       433791696896, 7310593858020254331, 3616445622929465956],\n",
              "        [6068655667612233013, 3689356515585177904, 6501000145162940974]])"
            ]
          },
          "metadata": {},
          "execution_count": 25
        }
      ]
    },
    {
      "cell_type": "code",
      "source": [
        "torch.zeros_like(a)\n"
      ],
      "metadata": {
        "colab": {
          "base_uri": "https://localhost:8080/"
        },
        "id": "hVXzpCuMrkQb",
        "outputId": "5421557d-ffdd-4c2d-c780-14cab485388a"
      },
      "execution_count": 27,
      "outputs": [
        {
          "output_type": "execute_result",
          "data": {
            "text/plain": [
              "tensor([[0, 0, 0],\n",
              "        [0, 0, 0]])"
            ]
          },
          "metadata": {},
          "execution_count": 27
        }
      ]
    },
    {
      "cell_type": "code",
      "source": [
        "torch.ones_like(a)"
      ],
      "metadata": {
        "colab": {
          "base_uri": "https://localhost:8080/"
        },
        "id": "EDOGbzN7r3lk",
        "outputId": "df470f3e-370e-4cd7-f2a5-6bd83b420626"
      },
      "execution_count": 28,
      "outputs": [
        {
          "output_type": "execute_result",
          "data": {
            "text/plain": [
              "tensor([[1, 1, 1],\n",
              "        [1, 1, 1]])"
            ]
          },
          "metadata": {},
          "execution_count": 28
        }
      ]
    },
    {
      "cell_type": "code",
      "source": [
        "#changing data type\n",
        "a.to(torch.float32)"
      ],
      "metadata": {
        "colab": {
          "base_uri": "https://localhost:8080/"
        },
        "id": "oGgRlUXyswH8",
        "outputId": "d3eaabbb-795e-4042-f5db-80397f27fcdb"
      },
      "execution_count": 34,
      "outputs": [
        {
          "output_type": "execute_result",
          "data": {
            "text/plain": [
              "tensor([[1., 2., 3.],\n",
              "        [6., 7., 8.]])"
            ]
          },
          "metadata": {},
          "execution_count": 34
        }
      ]
    },
    {
      "cell_type": "code",
      "source": [
        "torch.rand_like(a, dtype=torch.float32)"
      ],
      "metadata": {
        "colab": {
          "base_uri": "https://localhost:8080/"
        },
        "id": "zKHOd5HHr7ZY",
        "outputId": "c27edfaa-6a1a-4341-ac7c-5eb388cedad5"
      },
      "execution_count": 36,
      "outputs": [
        {
          "output_type": "execute_result",
          "data": {
            "text/plain": [
              "tensor([[0.3904, 0.6009, 0.2566],\n",
              "        [0.7936, 0.9408, 0.1332]])"
            ]
          },
          "metadata": {},
          "execution_count": 36
        }
      ]
    },
    {
      "cell_type": "code",
      "source": [
        "#to find memory location\n",
        "id(a)"
      ],
      "metadata": {
        "colab": {
          "base_uri": "https://localhost:8080/"
        },
        "id": "yGK2v2Fqr_c3",
        "outputId": "c2396950-8849-49ec-bbb8-45fe8784639a"
      },
      "execution_count": 37,
      "outputs": [
        {
          "output_type": "execute_result",
          "data": {
            "text/plain": [
              "137539495120336"
            ]
          },
          "metadata": {},
          "execution_count": 37
        }
      ]
    },
    {
      "cell_type": "code",
      "source": [
        "id(x)"
      ],
      "metadata": {
        "colab": {
          "base_uri": "https://localhost:8080/"
        },
        "id": "hPl_hhGKz9zL",
        "outputId": "29cbe3bd-ed4f-4329-e6d4-021f8c047b95"
      },
      "execution_count": 38,
      "outputs": [
        {
          "output_type": "execute_result",
          "data": {
            "text/plain": [
              "137539647612464"
            ]
          },
          "metadata": {},
          "execution_count": 38
        }
      ]
    },
    {
      "cell_type": "code",
      "source": [
        "#to copy data item in different memory location\n",
        "b=a.clone()\n",
        "id(b)"
      ],
      "metadata": {
        "colab": {
          "base_uri": "https://localhost:8080/"
        },
        "id": "X4KuZLNY0ARc",
        "outputId": "9573ce37-74bb-4cc0-c057-ca7530a6ae1b"
      },
      "execution_count": 41,
      "outputs": [
        {
          "output_type": "execute_result",
          "data": {
            "text/plain": [
              "137538992951984"
            ]
          },
          "metadata": {},
          "execution_count": 41
        }
      ]
    },
    {
      "cell_type": "code",
      "source": [
        "b"
      ],
      "metadata": {
        "colab": {
          "base_uri": "https://localhost:8080/"
        },
        "id": "ghTew1zS0Uy4",
        "outputId": "2de43c8e-c54d-4b09-cd0f-48d9ef4d49c5"
      },
      "execution_count": 42,
      "outputs": [
        {
          "output_type": "execute_result",
          "data": {
            "text/plain": [
              "tensor([[1, 2, 3],\n",
              "        [6, 7, 8]])"
            ]
          },
          "metadata": {},
          "execution_count": 42
        }
      ]
    },
    {
      "cell_type": "markdown",
      "source": [
        "Tensor operation on GPU"
      ],
      "metadata": {
        "id": "pjZpbwBB0w3i"
      }
    },
    {
      "cell_type": "code",
      "source": [
        "torch.cuda.is_available()"
      ],
      "metadata": {
        "colab": {
          "base_uri": "https://localhost:8080/"
        },
        "id": "4cPmxHp-0cFo",
        "outputId": "cb434bac-2700-4a07-cdf7-65f4d4b1eab1"
      },
      "execution_count": 43,
      "outputs": [
        {
          "output_type": "execute_result",
          "data": {
            "text/plain": [
              "True"
            ]
          },
          "metadata": {},
          "execution_count": 43
        }
      ]
    },
    {
      "cell_type": "code",
      "source": [
        "#to perform operations in gpu's RAM (VRAM)\n",
        "device = torch.device('cuda')"
      ],
      "metadata": {
        "id": "cDSK65nJ0_NL"
      },
      "execution_count": 44,
      "outputs": []
    },
    {
      "cell_type": "code",
      "source": [
        "torch.rand((2,3), device=device)"
      ],
      "metadata": {
        "colab": {
          "base_uri": "https://localhost:8080/"
        },
        "id": "4-yqOFWd1Qz4",
        "outputId": "746a19ba-f2a5-4410-c6c1-16c49a099191"
      },
      "execution_count": 45,
      "outputs": [
        {
          "output_type": "execute_result",
          "data": {
            "text/plain": [
              "tensor([[0.6130, 0.0101, 0.3984],\n",
              "        [0.0403, 0.1563, 0.4825]], device='cuda:0')"
            ]
          },
          "metadata": {},
          "execution_count": 45
        }
      ]
    },
    {
      "cell_type": "code",
      "source": [
        "\n",
        "r= torch.rand(2,3)\n",
        "r"
      ],
      "metadata": {
        "colab": {
          "base_uri": "https://localhost:8080/"
        },
        "id": "eu7L423o1xjJ",
        "outputId": "a9fe5be4-466e-4be9-f695-fdf465c24709"
      },
      "execution_count": 46,
      "outputs": [
        {
          "output_type": "execute_result",
          "data": {
            "text/plain": [
              "tensor([[0.9346, 0.5936, 0.8694],\n",
              "        [0.5677, 0.7411, 0.4294]])"
            ]
          },
          "metadata": {},
          "execution_count": 46
        }
      ]
    },
    {
      "cell_type": "code",
      "source": [
        "#moving existing tensor to gpu\n",
        "t=r.to(device)\n",
        "t"
      ],
      "metadata": {
        "colab": {
          "base_uri": "https://localhost:8080/"
        },
        "id": "K-gSKh7v2AOA",
        "outputId": "453e62de-cf99-4a19-844e-ab42b143f14e"
      },
      "execution_count": 48,
      "outputs": [
        {
          "output_type": "execute_result",
          "data": {
            "text/plain": [
              "tensor([[0.9346, 0.5936, 0.8694],\n",
              "        [0.5677, 0.7411, 0.4294]], device='cuda:0')"
            ]
          },
          "metadata": {},
          "execution_count": 48
        }
      ]
    },
    {
      "cell_type": "code",
      "source": [
        "c= torch.rand(4,4)\n",
        "c"
      ],
      "metadata": {
        "colab": {
          "base_uri": "https://localhost:8080/"
        },
        "id": "nH5DWtM02FbQ",
        "outputId": "0541f911-748a-4a8d-f53e-a5a60c1af882"
      },
      "execution_count": 3,
      "outputs": [
        {
          "output_type": "execute_result",
          "data": {
            "text/plain": [
              "tensor([[0.4412, 0.1885, 0.5894, 0.3353],\n",
              "        [0.7525, 0.2573, 0.8732, 0.2362],\n",
              "        [0.5137, 0.3095, 0.2881, 0.7432],\n",
              "        [0.9528, 0.4883, 0.8232, 0.1076]])"
            ]
          },
          "metadata": {},
          "execution_count": 3
        }
      ]
    },
    {
      "cell_type": "code",
      "source": [
        "c.reshape(2,2,2,2)"
      ],
      "metadata": {
        "colab": {
          "base_uri": "https://localhost:8080/"
        },
        "id": "2dhIpb3QGTUl",
        "outputId": "55243ef6-62a3-4d91-8654-ad8c727bbdda"
      },
      "execution_count": 4,
      "outputs": [
        {
          "output_type": "execute_result",
          "data": {
            "text/plain": [
              "tensor([[[[0.4412, 0.1885],\n",
              "          [0.5894, 0.3353]],\n",
              "\n",
              "         [[0.7525, 0.2573],\n",
              "          [0.8732, 0.2362]]],\n",
              "\n",
              "\n",
              "        [[[0.5137, 0.3095],\n",
              "          [0.2881, 0.7432]],\n",
              "\n",
              "         [[0.9528, 0.4883],\n",
              "          [0.8232, 0.1076]]]])"
            ]
          },
          "metadata": {},
          "execution_count": 4
        }
      ]
    },
    {
      "cell_type": "code",
      "source": [
        "c.flatten()"
      ],
      "metadata": {
        "colab": {
          "base_uri": "https://localhost:8080/"
        },
        "id": "6mEl7361GgCl",
        "outputId": "539860e7-fb40-42a2-b770-54d2b2658c01"
      },
      "execution_count": 5,
      "outputs": [
        {
          "output_type": "execute_result",
          "data": {
            "text/plain": [
              "tensor([0.4412, 0.1885, 0.5894, 0.3353, 0.7525, 0.2573, 0.8732, 0.2362, 0.5137,\n",
              "        0.3095, 0.2881, 0.7432, 0.9528, 0.4883, 0.8232, 0.1076])"
            ]
          },
          "metadata": {},
          "execution_count": 5
        }
      ]
    },
    {
      "cell_type": "code",
      "source": [
        "d=torch.rand(2,3,4)\n",
        "d"
      ],
      "metadata": {
        "colab": {
          "base_uri": "https://localhost:8080/"
        },
        "id": "s0_fHfiSGoMP",
        "outputId": "6b4a65bd-f8f5-481f-8836-e85ee0c58124"
      },
      "execution_count": 7,
      "outputs": [
        {
          "output_type": "execute_result",
          "data": {
            "text/plain": [
              "tensor([[[0.8524, 0.5586, 0.3461, 0.4373],\n",
              "         [0.0980, 0.8085, 0.1809, 0.9034],\n",
              "         [0.4245, 0.7855, 0.0732, 0.7667]],\n",
              "\n",
              "        [[0.3834, 0.8042, 0.6070, 0.3164],\n",
              "         [0.3434, 0.7636, 0.4266, 0.9636],\n",
              "         [0.3246, 0.9334, 0.6777, 0.7748]]])"
            ]
          },
          "metadata": {},
          "execution_count": 7
        }
      ]
    },
    {
      "cell_type": "code",
      "source": [
        "#from above the position 0=2,3=1,4=2,  now we can change the positons by:\n",
        "e=d.permute(2,1,0)\n",
        "e"
      ],
      "metadata": {
        "colab": {
          "base_uri": "https://localhost:8080/"
        },
        "id": "Lugc5boNGt9f",
        "outputId": "6317e3cf-0c8c-4134-c015-4053114712a8"
      },
      "execution_count": 8,
      "outputs": [
        {
          "output_type": "execute_result",
          "data": {
            "text/plain": [
              "tensor([[[0.8524, 0.3834],\n",
              "         [0.0980, 0.3434],\n",
              "         [0.4245, 0.3246]],\n",
              "\n",
              "        [[0.5586, 0.8042],\n",
              "         [0.8085, 0.7636],\n",
              "         [0.7855, 0.9334]],\n",
              "\n",
              "        [[0.3461, 0.6070],\n",
              "         [0.1809, 0.4266],\n",
              "         [0.0732, 0.6777]],\n",
              "\n",
              "        [[0.4373, 0.3164],\n",
              "         [0.9034, 0.9636],\n",
              "         [0.7667, 0.7748]]])"
            ]
          },
          "metadata": {},
          "execution_count": 8
        }
      ]
    },
    {
      "cell_type": "code",
      "source": [
        "#unsqueeze\n",
        "#image sixe\n",
        "#used for adding dimension in desired position\n",
        "i= torch.rand(226,226,3)\n",
        "i.unsqueeze(0).shape"
      ],
      "metadata": {
        "colab": {
          "base_uri": "https://localhost:8080/"
        },
        "id": "J6zvGlGVHCLY",
        "outputId": "4d85a984-4548-4066-d1b6-b1821c7a31c3"
      },
      "execution_count": 9,
      "outputs": [
        {
          "output_type": "execute_result",
          "data": {
            "text/plain": [
              "torch.Size([1, 226, 226, 3])"
            ]
          },
          "metadata": {},
          "execution_count": 9
        }
      ]
    },
    {
      "cell_type": "code",
      "source": [
        "j= torch.rand(1,20)\n",
        "j.squeeze(0).shape"
      ],
      "metadata": {
        "colab": {
          "base_uri": "https://localhost:8080/"
        },
        "id": "gp4qJfUzIa17",
        "outputId": "e45cb6f8-890d-4a5e-b81e-a93c0bb8b16a"
      },
      "execution_count": 13,
      "outputs": [
        {
          "output_type": "execute_result",
          "data": {
            "text/plain": [
              "torch.Size([20])"
            ]
          },
          "metadata": {},
          "execution_count": 13
        }
      ]
    },
    {
      "cell_type": "markdown",
      "source": [
        "converting numpy and pytorch\n"
      ],
      "metadata": {
        "id": "GBKOaYBlJQ60"
      }
    },
    {
      "cell_type": "code",
      "source": [
        "import numpy as np"
      ],
      "metadata": {
        "id": "wwEBwH_0Iq_m"
      },
      "execution_count": 14,
      "outputs": []
    },
    {
      "cell_type": "code",
      "source": [
        "n=torch.tensor([1,2,3])\n",
        "n"
      ],
      "metadata": {
        "colab": {
          "base_uri": "https://localhost:8080/"
        },
        "id": "RxzyS5RUJZbi",
        "outputId": "9a5392b3-8dfa-414a-b390-d955915d117b"
      },
      "execution_count": 15,
      "outputs": [
        {
          "output_type": "execute_result",
          "data": {
            "text/plain": [
              "tensor([1, 2, 3])"
            ]
          },
          "metadata": {},
          "execution_count": 15
        }
      ]
    },
    {
      "cell_type": "code",
      "source": [
        "m=n.numpy()\n",
        "m"
      ],
      "metadata": {
        "colab": {
          "base_uri": "https://localhost:8080/"
        },
        "id": "EEpGdFuLJkBN",
        "outputId": "8a9320e0-4765-4e74-c621-d6e82ecf15a9"
      },
      "execution_count": 16,
      "outputs": [
        {
          "output_type": "execute_result",
          "data": {
            "text/plain": [
              "array([1, 2, 3])"
            ]
          },
          "metadata": {},
          "execution_count": 16
        }
      ]
    },
    {
      "cell_type": "code",
      "source": [
        "s=np.array([1,2,3])\n",
        "s"
      ],
      "metadata": {
        "colab": {
          "base_uri": "https://localhost:8080/"
        },
        "id": "lrl70mOaJoGu",
        "outputId": "afe51035-80ac-400c-85d4-27beb0adb0c6"
      },
      "execution_count": 17,
      "outputs": [
        {
          "output_type": "execute_result",
          "data": {
            "text/plain": [
              "array([1, 2, 3])"
            ]
          },
          "metadata": {},
          "execution_count": 17
        }
      ]
    },
    {
      "cell_type": "code",
      "source": [
        "torch.from_numpy(s)"
      ],
      "metadata": {
        "colab": {
          "base_uri": "https://localhost:8080/"
        },
        "id": "vlRv9LCVJycr",
        "outputId": "4b84e49d-607f-4d37-9f33-4197b437fa8b"
      },
      "execution_count": 18,
      "outputs": [
        {
          "output_type": "execute_result",
          "data": {
            "text/plain": [
              "tensor([1, 2, 3])"
            ]
          },
          "metadata": {},
          "execution_count": 18
        }
      ]
    },
    {
      "cell_type": "code",
      "source": [],
      "metadata": {
        "id": "RSUMvWb9J7_B"
      },
      "execution_count": null,
      "outputs": []
    }
  ]
}