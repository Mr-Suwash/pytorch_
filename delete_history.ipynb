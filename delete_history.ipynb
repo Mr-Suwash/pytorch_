{
  "nbformat": 4,
  "nbformat_minor": 0,
  "metadata": {
    "colab": {
      "provenance": []
    },
    "kernelspec": {
      "name": "python3",
      "display_name": "Python 3"
    },
    "language_info": {
      "name": "python"
    }
  },
  "cells": [
    {
      "cell_type": "markdown",
      "source": [
        "# Stop tensor from tracking history.\n"
      ],
      "metadata": {
        "id": "04eTSO9kKY1O"
      }
    },
    {
      "cell_type": "markdown",
      "source": [
        "first method:"
      ],
      "metadata": {
        "id": "cJYH83URKtlc"
      }
    },
    {
      "cell_type": "code",
      "execution_count": null,
      "metadata": {
        "colab": {
          "base_uri": "https://localhost:8080/"
        },
        "id": "as5rkoWNKKmE",
        "outputId": "30bab520-f9dc-4acc-9b0e-126235da1fde"
      },
      "outputs": [
        {
          "output_type": "stream",
          "name": "stdout",
          "text": [
            "False\n",
            "None\n"
          ]
        }
      ],
      "source": [
        "import torch\n",
        "a = torch.randn(2,2)\n",
        "b = (a*a).sum()\n",
        "print(a.requires_grad)\n",
        "print(b.grad_fn)"
      ]
    },
    {
      "cell_type": "code",
      "source": [
        "#inplace\n",
        "a.requires_grad_(True)\n",
        "b=(a*a).sum()\n",
        "print(a.requires_grad)\n",
        "print(b.grad_fn)"
      ],
      "metadata": {
        "colab": {
          "base_uri": "https://localhost:8080/"
        },
        "id": "oOaa41kNLB0q",
        "outputId": "861596a9-dd2f-4e68-a053-60c6b454fabf"
      },
      "execution_count": null,
      "outputs": [
        {
          "output_type": "stream",
          "name": "stdout",
          "text": [
            "True\n",
            "<SumBackward0 object at 0x7e93826dca30>\n"
          ]
        }
      ]
    },
    {
      "cell_type": "markdown",
      "source": [
        "second method:"
      ],
      "metadata": {
        "id": "7HEe4AG6LwC_"
      }
    },
    {
      "cell_type": "code",
      "source": [
        "a=torch.randn(2,2, requires_grad = True)\n",
        "b = a.detach()\n",
        "print(a.requires_grad)\n",
        "print(b.requires_grad)"
      ],
      "metadata": {
        "colab": {
          "base_uri": "https://localhost:8080/"
        },
        "id": "5i9UwhCkLsH_",
        "outputId": "5af29085-f6bf-445d-da5e-c5835330f13f"
      },
      "execution_count": null,
      "outputs": [
        {
          "output_type": "stream",
          "name": "stdout",
          "text": [
            "True\n",
            "False\n"
          ]
        }
      ]
    },
    {
      "cell_type": "markdown",
      "source": [
        "third method:"
      ],
      "metadata": {
        "id": "JF0LsVoFMR47"
      }
    },
    {
      "cell_type": "code",
      "source": [
        "a=torch.randn(2,2, requires_grad = True)\n",
        "print(a.requires_grad)\n",
        "with torch.no_grad():\n",
        "  b=a**2\n",
        "  print(b.requires_grad)"
      ],
      "metadata": {
        "colab": {
          "base_uri": "https://localhost:8080/"
        },
        "id": "S7WNdZ1LMIBX",
        "outputId": "71e37795-5c82-4cad-f89e-eb770af61d2b"
      },
      "execution_count": null,
      "outputs": [
        {
          "output_type": "stream",
          "name": "stdout",
          "text": [
            "True\n",
            "False\n"
          ]
        }
      ]
    },
    {
      "cell_type": "markdown",
      "source": [
        "# Model, Loss and Optimizer"
      ],
      "metadata": {
        "id": "UfZEqf-atwOI"
      }
    },
    {
      "cell_type": "code",
      "source": [
        "# create model class\n",
        "import torch\n",
        "import torch.nn as nn\n",
        "\n",
        "class Model(nn.Module):\n",
        "    def __init__(self, num_features):\n",
        "        super(Model, self).__init__()\n",
        "        self.linear = nn.Linear(num_features, 1)\n",
        "\n",
        "    def forward(self, x):\n",
        "        return self.linear(x)\n",
        "\n",
        "# create dataset\n",
        "X = torch.randn(5, 3)  # 5 samples, 3 features each\n",
        "\n",
        "# create model\n",
        "model = Model(num_features=3)\n",
        "\n",
        "# call model for forward pass\n",
        "output = model(X)\n",
        "print(\"Model Output:\\n\", output)\n",
        "\n",
        "# show model weights\n",
        "print(\"\\nModel Weights:\")\n",
        "for name, param in model.named_parameters():\n",
        "    print(f\"{name}: {param.data}\")\n"
      ],
      "metadata": {
        "id": "lZyX5RJCMfO0",
        "colab": {
          "base_uri": "https://localhost:8080/"
        },
        "outputId": "3acea2ae-edc2-4feb-ddf8-fecfba177c4c"
      },
      "execution_count": 1,
      "outputs": [
        {
          "output_type": "stream",
          "name": "stdout",
          "text": [
            "Model Output:\n",
            " tensor([[0.2193],\n",
            "        [0.3654],\n",
            "        [0.1077],\n",
            "        [0.1801],\n",
            "        [0.4224]], grad_fn=<AddmmBackward0>)\n",
            "\n",
            "Model Weights:\n",
            "linear.weight: tensor([[ 0.0657, -0.0875,  0.0419]])\n",
            "linear.bias: tensor([0.3385])\n"
          ]
        }
      ]
    },
    {
      "cell_type": "code",
      "source": [],
      "metadata": {
        "id": "5Ysnwtz9t5-1"
      },
      "execution_count": null,
      "outputs": []
    }
  ]
}